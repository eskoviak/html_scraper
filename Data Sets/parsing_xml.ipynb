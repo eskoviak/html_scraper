{
  "cells": [
    {
      "cell_type": "markdown",
      "metadata": {},
      "source": [
        "# Import needed libraries\n"
      ]
    },
    {
      "cell_type": "code",
      "execution_count": 1,
      "metadata": {},
      "outputs": [],
      "source": [
        "from lxml import etree"
      ]
    },
    {
      "cell_type": "markdown",
      "metadata": {},
      "source": [
        "## Load a simple document"
      ]
    },
    {
      "cell_type": "code",
      "execution_count": 6,
      "metadata": {},
      "outputs": [],
      "source": [
        "xml_doc = \"\"\"<?xml version=\"1.0\"?>\n",
        "    <!DOCTYPE root SYSTEM \"test\" [ <!ENTITY tasty \"parsnips\"> ]>\n",
        "    <root>\n",
        "      <a>&tasty;</a>\n",
        "    </root>\n",
        "\"\"\"\n",
        "root = etree.XML(xml_doc)"
      ]
    },
    {
      "cell_type": "code",
      "execution_count": 7,
      "metadata": {},
      "outputs": [
        {
          "name": "stdout",
          "output_type": "stream",
          "text": [
            "1.0\n"
          ]
        }
      ],
      "source": [
        "tree = etree.ElementTree(root)\n",
        "print(tree.docinfo.xml_version)"
      ]
    },
    {
      "cell_type": "code",
      "execution_count": null,
      "metadata": {},
      "outputs": [],
      "source": [
        "## https://www.investopedia.com/terms-beginning-with-c-4769353"
      ]
    }
  ],
  "metadata": {
    "interpreter": {
      "hash": "76e88bba7c15276b93084d151342fd17b8a34658cc5ff1abb1061969a9442553"
    },
    "kernelspec": {
      "display_name": "Python 3.9.1 ('vpython3.9': venv)",
      "language": "python",
      "name": "python3"
    },
    "language_info": {
      "codemirror_mode": {
        "name": "ipython",
        "version": 3
      },
      "file_extension": ".py",
      "mimetype": "text/x-python",
      "name": "python",
      "nbconvert_exporter": "python",
      "pygments_lexer": "ipython3",
      "version": "3.9.1"
    },
    "orig_nbformat": 4
  },
  "nbformat": 4,
  "nbformat_minor": 2
}
