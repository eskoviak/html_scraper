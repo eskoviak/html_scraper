{
  "cells": [
    {
      "cell_type": "markdown",
      "metadata": {},
      "source": [
        "# Import needed libraries and set up environment\n"
      ]
    },
    {
      "cell_type": "code",
      "execution_count": 1,
      "metadata": {},
      "outputs": [],
      "source": [
        "from lxml import etree\n",
        "from pathlib import Path\n",
        "p = Path('/Users/edskov/repos/html_scraper')"
      ]
    },
    {
      "cell_type": "markdown",
      "metadata": {},
      "source": [
        "## Load a simple document"
      ]
    },
    {
      "cell_type": "code",
      "execution_count": 6,
      "metadata": {},
      "outputs": [],
      "source": [
        "xml_doc = \"\"\"<?xml version=\"1.0\"?>\n",
        "    <!DOCTYPE root SYSTEM \"test\" [ <!ENTITY tasty \"parsnips\"> ]>\n",
        "    <root>\n",
        "      <a>&tasty;</a>\n",
        "    </root>\n",
        "\"\"\"\n",
        "root = etree.XML(xml_doc)"
      ]
    },
    {
      "cell_type": "code",
      "execution_count": 7,
      "metadata": {},
      "outputs": [
        {
          "name": "stdout",
          "output_type": "stream",
          "text": [
            "1.0\n"
          ]
        }
      ],
      "source": [
        "tree = etree.ElementTree(root)\n",
        "print(tree.docinfo.xml_version)"
      ]
    },
    {
      "cell_type": "code",
      "execution_count": null,
      "metadata": {},
      "outputs": [],
      "source": [
        "## https://www.investopedia.com/terms-beginning-with-c-4769353"
      ]
    },
    {
      "cell_type": "markdown",
      "metadata": {},
      "source": [
        "## Loading an xml doc from a file"
      ]
    },
    {
      "cell_type": "code",
      "execution_count": 25,
      "metadata": {},
      "outputs": [
        {
          "ename": "AttributeError",
          "evalue": "'list' object has no attribute 'text'",
          "output_type": "error",
          "traceback": [
            "\u001b[1;31m---------------------------------------------------------------------------\u001b[0m",
            "\u001b[1;31mAttributeError\u001b[0m                            Traceback (most recent call last)",
            "\u001b[1;32mc:\\Users\\edskov\\repos\\html_scraper\\Data Sets\\parsing_xml.ipynb Cell 8'\u001b[0m in \u001b[0;36m<module>\u001b[1;34m\u001b[0m\n\u001b[0;32m      <a href='vscode-notebook-cell:/c%3A/Users/edskov/repos/html_scraper/Data%20Sets/parsing_xml.ipynb#ch0000007?line=3'>4</a>\u001b[0m act_title \u001b[39m=\u001b[39m hamlet\u001b[39m.\u001b[39mxpath(\u001b[39m'\u001b[39m\u001b[39m/PLAY/ACT/TITLE\u001b[39m\u001b[39m'\u001b[39m)\n\u001b[0;32m      <a href='vscode-notebook-cell:/c%3A/Users/edskov/repos/html_scraper/Data%20Sets/parsing_xml.ipynb#ch0000007?line=4'>5</a>\u001b[0m \u001b[39m#print(len(act_title))\u001b[39;00m\n\u001b[1;32m----> <a href='vscode-notebook-cell:/c%3A/Users/edskov/repos/html_scraper/Data%20Sets/parsing_xml.ipynb#ch0000007?line=5'>6</a>\u001b[0m acts \u001b[39m=\u001b[39m [act \u001b[39mfor\u001b[39;00m act \u001b[39min\u001b[39;00m act_title\u001b[39m.\u001b[39;49mtext]\n",
            "\u001b[1;31mAttributeError\u001b[0m: 'list' object has no attribute 'text'"
          ]
        }
      ],
      "source": [
        "\n",
        "with open(p.joinpath('./Data Sets/hamlet.xml'), 'r') as fp:\n",
        "    hamlet = etree.parse(fp)\n",
        "\n",
        "act_title = hamlet.xpath('/PLAY/ACT/TITLE')\n",
        "#print(len(act_title))\n",
        "acts = [act for act in act_title]\n",
        "\n",
        "\n",
        "\n"
      ]
    },
    {
      "cell_type": "code",
      "execution_count": null,
      "metadata": {},
      "outputs": [],
      "source": []
    }
  ],
  "metadata": {
    "interpreter": {
      "hash": "76e88bba7c15276b93084d151342fd17b8a34658cc5ff1abb1061969a9442553"
    },
    "kernelspec": {
      "display_name": "Python 3.9.1 ('vpython3.9': venv)",
      "language": "python",
      "name": "python3"
    },
    "language_info": {
      "codemirror_mode": {
        "name": "ipython",
        "version": 3
      },
      "file_extension": ".py",
      "mimetype": "text/x-python",
      "name": "python",
      "nbconvert_exporter": "python",
      "pygments_lexer": "ipython3",
      "version": "3.9.1"
    },
    "orig_nbformat": 4
  },
  "nbformat": 4,
  "nbformat_minor": 2
}
